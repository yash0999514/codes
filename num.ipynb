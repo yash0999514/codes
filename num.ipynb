{
 "cells": [
  {
   "cell_type": "code",
   "execution_count": 1,
   "id": "0284d005-c438-4661-b97a-03e6a6c02e16",
   "metadata": {},
   "outputs": [],
   "source": [
    "import numpy as np\n"
   ]
  },
  {
   "cell_type": "code",
   "execution_count": 2,
   "id": "ab8d87c4-a688-44b8-8ea9-a414e20f1e28",
   "metadata": {},
   "outputs": [],
   "source": [
    "arr = np.array([10, 20, 30, 40, 50])\n"
   ]
  },
  {
   "cell_type": "code",
   "execution_count": 3,
   "id": "770559d7-1fb5-4b0f-8f96-fa0c589ccfc7",
   "metadata": {},
   "outputs": [
    {
     "name": "stdout",
     "output_type": "stream",
     "text": [
      "Array: [10 20 30 40 50]\n"
     ]
    }
   ],
   "source": [
    "print(\"Array:\", arr)"
   ]
  },
  {
   "cell_type": "code",
   "execution_count": 4,
   "id": "bb44ee4b-cac0-4f3c-9795-29f1ad84c2ee",
   "metadata": {},
   "outputs": [
    {
     "name": "stdout",
     "output_type": "stream",
     "text": [
      "Shape: (5,)\n"
     ]
    }
   ],
   "source": [
    "print(\"Shape:\", arr.shape)"
   ]
  },
  {
   "cell_type": "code",
   "execution_count": 5,
   "id": "c21fb36e-b1cd-4aa6-bfd0-43390385dc2f",
   "metadata": {},
   "outputs": [
    {
     "name": "stdout",
     "output_type": "stream",
     "text": [
      "Size: 5\n"
     ]
    }
   ],
   "source": [
    "print(\"Size:\", arr.size)"
   ]
  },
  {
   "cell_type": "code",
   "execution_count": 6,
   "id": "0ac07279-b8ac-4be3-9c9e-25f652039872",
   "metadata": {},
   "outputs": [
    {
     "name": "stdout",
     "output_type": "stream",
     "text": [
      "Dimension: 1\n"
     ]
    }
   ],
   "source": [
    "print(\"Dimension:\", arr.ndim)"
   ]
  },
  {
   "cell_type": "code",
   "execution_count": 7,
   "id": "1e846082-08ac-47a0-91a2-adafc37f571d",
   "metadata": {},
   "outputs": [
    {
     "name": "stdout",
     "output_type": "stream",
     "text": [
      "Data Type: int64\n"
     ]
    }
   ],
   "source": [
    "print(\"Data Type:\", arr.dtype)"
   ]
  },
  {
   "cell_type": "code",
   "execution_count": 8,
   "id": "1fc2df79-6005-41dc-9ffe-0a0b7c207b33",
   "metadata": {},
   "outputs": [
    {
     "name": "stdout",
     "output_type": "stream",
     "text": [
      "Max: 50\n"
     ]
    }
   ],
   "source": [
    "print(\"Max:\", np.max(arr))"
   ]
  },
  {
   "cell_type": "code",
   "execution_count": 9,
   "id": "f01be4a0-a202-491a-bb04-3bdb50e646ee",
   "metadata": {},
   "outputs": [
    {
     "name": "stdout",
     "output_type": "stream",
     "text": [
      "Min: 10\n"
     ]
    }
   ],
   "source": [
    "print(\"Min:\", np.min(arr))"
   ]
  },
  {
   "cell_type": "code",
   "execution_count": 11,
   "id": "3ec3120e-eac5-46f9-9911-8db4019be881",
   "metadata": {},
   "outputs": [
    {
     "name": "stdout",
     "output_type": "stream",
     "text": [
      "Sum: 150\n"
     ]
    }
   ],
   "source": [
    "print(\"Sum:\", np.sum(arr))"
   ]
  },
  {
   "cell_type": "code",
   "execution_count": 12,
   "id": "d6fb4405-f29b-4c0a-9fb8-ac1df1347db2",
   "metadata": {},
   "outputs": [
    {
     "name": "stdout",
     "output_type": "stream",
     "text": [
      "Sorted Array: [10 20 30 40 50]\n"
     ]
    }
   ],
   "source": [
    "print(\"Sorted Array:\", np.sort(arr))"
   ]
  },
  {
   "cell_type": "code",
   "execution_count": 15,
   "id": "048f5393-edb6-4296-afbf-90f85ae8f54c",
   "metadata": {},
   "outputs": [],
   "source": [
    "arr2 = np.array([[1, 2],[3, 4]])"
   ]
  },
  {
   "cell_type": "code",
   "execution_count": 14,
   "id": "53f02efe-ba1b-40af-82c3-d20295b3a306",
   "metadata": {},
   "outputs": [
    {
     "name": "stdout",
     "output_type": "stream",
     "text": [
      "2D Array:\n",
      " [[1 2]\n",
      " [3 4]]\n"
     ]
    }
   ],
   "source": [
    "print(\"2D Array:\\n\", arr2)"
   ]
  },
  {
   "cell_type": "code",
   "execution_count": 16,
   "id": "ac9617f7-eb49-4388-bdf4-afb6ff05bd63",
   "metadata": {},
   "outputs": [
    {
     "name": "stdout",
     "output_type": "stream",
     "text": [
      "Transpose:\n",
      " [[1 3]\n",
      " [2 4]]\n"
     ]
    }
   ],
   "source": [
    "print(\"Transpose:\\n\", np.transpose(arr2))"
   ]
  },
  {
   "cell_type": "code",
   "execution_count": 17,
   "id": "d26e0cb7-816e-40a2-9348-183dc94b206f",
   "metadata": {},
   "outputs": [
    {
     "name": "stdout",
     "output_type": "stream",
     "text": [
      "Reshaped to (4,1):\n",
      " [[1]\n",
      " [2]\n",
      " [3]\n",
      " [4]]\n"
     ]
    }
   ],
   "source": [
    "print(\"Reshaped to (4,1):\\n\", arr2.reshape(4, 1))"
   ]
  },
  {
   "cell_type": "code",
   "execution_count": null,
   "id": "d3421283-cc32-4f2d-bb3d-54018bc8868f",
   "metadata": {},
   "outputs": [],
   "source": []
  }
 ],
 "metadata": {
  "kernelspec": {
   "display_name": "Python [conda env:base] *",
   "language": "python",
   "name": "conda-base-py"
  },
  "language_info": {
   "codemirror_mode": {
    "name": "ipython",
    "version": 3
   },
   "file_extension": ".py",
   "mimetype": "text/x-python",
   "name": "python",
   "nbconvert_exporter": "python",
   "pygments_lexer": "ipython3",
   "version": "3.13.5"
  }
 },
 "nbformat": 4,
 "nbformat_minor": 5
}
