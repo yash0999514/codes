{
 "cells": [
  {
   "cell_type": "code",
   "execution_count": 1,
   "id": "d75cf71a-daf1-430f-bf7e-203165bb078d",
   "metadata": {},
   "outputs": [],
   "source": [
    "import numpy as np\n"
   ]
  },
  {
   "cell_type": "code",
   "execution_count": 2,
   "id": "7006a0d3-fda8-4721-9a11-d0d7ddfc69d1",
   "metadata": {},
   "outputs": [
    {
     "name": "stdout",
     "output_type": "stream",
     "text": [
      "1. Array: [10 20 30 40 50]\n",
      "2. Shape: (5,)\n",
      "3. Size: 5\n",
      "4. Dim: 1\n",
      "5. Dtype: int64\n",
      "6. Max: 50\n",
      "7. Min: 10\n",
      "8. Mean: 30.0\n",
      "9. Median: 30.0\n",
      "10. Std: 14.142135623730951\n",
      "11. Sum: 150\n",
      "12. CumSum: [ 10  30  60 100 150]\n",
      "13. Sqrt: [3.16227766 4.47213595 5.47722558 6.32455532 7.07106781]\n",
      "14. Power 2: [ 100  400  900 1600 2500]\n",
      "15. Where >25: (array([2, 3, 4]),)\n",
      "16. 2D Array:\n",
      " [[1 2 3]\n",
      " [4 5 6]]\n",
      "17. Transpose:\n",
      " [[1 4]\n",
      " [2 5]\n",
      " [3 6]]\n",
      "18. Reshape (3x2):\n",
      " [[1 2]\n",
      " [3 4]\n",
      " [5 6]]\n"
     ]
    }
   ],
   "source": [
    "arr = np.array([10, 20, 30, 40, 50])\n",
    "print(\"1. Array:\", arr)\n",
    "print(\"2. Shape:\", arr.shape)\n",
    "print(\"3. Size:\", arr.size)\n",
    "print(\"4. Dim:\", arr.ndim)\n",
    "print(\"5. Dtype:\", arr.dtype)\n",
    "print(\"6. Max:\", np.max(arr))\n",
    "print(\"7. Min:\", np.min(arr))\n",
    "print(\"8. Mean:\", np.mean(arr))\n",
    "print(\"9. Median:\", np.median(arr))\n",
    "print(\"10. Std:\", np.std(arr))\n",
    "print(\"11. Sum:\", np.sum(arr))\n",
    "print(\"12. CumSum:\", np.cumsum(arr))\n",
    "print(\"13. Sqrt:\", np.sqrt(arr))\n",
    "print(\"14. Power 2:\", np.power(arr, 2))\n",
    "print(\"15. Where >25:\", np.where(arr > 25))\n",
    "arr2 = np.array([[1, 2, 3], [4, 5, 6]])\n",
    "print(\"16. 2D Array:\\n\", arr2)\n",
    "print(\"17. Transpose:\\n\", np.transpose(arr2))\n",
    "print(\"18. Reshape (3x2):\\n\", arr2.reshape(3, 2))"
   ]
  },
  {
   "cell_type": "code",
   "execution_count": null,
   "id": "eec75e1e-4c4a-46fb-96be-b14b1b1d5807",
   "metadata": {},
   "outputs": [],
   "source": []
  }
 ],
 "metadata": {
  "kernelspec": {
   "display_name": "Python [conda env:base] *",
   "language": "python",
   "name": "conda-base-py"
  },
  "language_info": {
   "codemirror_mode": {
    "name": "ipython",
    "version": 3
   },
   "file_extension": ".py",
   "mimetype": "text/x-python",
   "name": "python",
   "nbconvert_exporter": "python",
   "pygments_lexer": "ipython3",
   "version": "3.13.5"
  }
 },
 "nbformat": 4,
 "nbformat_minor": 5
}
