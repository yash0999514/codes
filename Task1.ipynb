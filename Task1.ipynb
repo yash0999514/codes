{
 "cells": [
  {
   "cell_type": "code",
   "execution_count": 3,
   "id": "6d7f0c6e-2f40-4dec-94c4-eb574ed1ee2c",
   "metadata": {},
   "outputs": [
    {
     "name": "stdout",
     "output_type": "stream",
     "text": [
      "File Content:\n",
      " Welcome to Python File Handling.\n",
      "This is line two .\n",
      "This line is appended.\n",
      "\n"
     ]
    }
   ],
   "source": [
    "#Task 1- Multiple File Operations\n",
    "f = open(\"data.txt\", \"w\")\n",
    "f.write(\"Welcome to Python File Handling.\\n\")\n",
    "f.write(\"This is line two .\\n\")\n",
    "f.close()\n",
    "f = open(\"data.txt\", \"a\")\n",
    "f.write(\"This line is appended.\\n\")\n",
    "f.close()\n",
    "f = open(\"data.txt\", \"r\")\n",
    "print(\"File Content:\\n\", f.read())\n",
    "f.close()"
   ]
  },
  {
   "cell_type": "code",
   "execution_count": 4,
   "id": "06e0555b-d70f-4fca-9623-38f1812b9f7f",
   "metadata": {},
   "outputs": [
    {
     "name": "stdout",
     "output_type": "stream",
     "text": [
      "Assignment Result: 15\n",
      "Bitwise AND: 5\n",
      "Bitwise OR: 15\n",
      "Bitwise XOR: 10\n",
      "Left Shift: 30\n",
      "Right Shift: 7\n"
     ]
    }
   ],
   "source": [
    "#Task 1.2 - Multiple Operators\n",
    "a = 10\n",
    "b = 5\n",
    "a += b\n",
    "print(\"Assignment Result:\", a)\n",
    "print(\"Bitwise AND:\", a & b)\n",
    "print(\"Bitwise OR:\", a | b)\n",
    "print(\"Bitwise XOR:\", a ^ b)\n",
    "print(\"Left Shift:\", a << 1)\n",
    "print(\"Right Shift:\", a >> 1)\n"
   ]
  },
  {
   "cell_type": "code",
   "execution_count": 6,
   "id": "eb8137f9-f8c7-40f8-a095-59350678f020",
   "metadata": {},
   "outputs": [
    {
     "name": "stdout",
     "output_type": "stream",
     "text": [
      "Original:  Python Programming of Yash \n",
      "Lower:  python programming of yash \n",
      "Upper:  PYTHON PROGRAMMING OF YASH \n",
      "Strip: Python Programming of Yash\n",
      "Replace:  Core Python Programming of Yash \n",
      "Split: ['Python', 'Programming', 'of', 'Yash']\n",
      "Find: 11\n",
      "Count of 'm': 2\n"
     ]
    }
   ],
   "source": [
    "# Task 1.3 - Multiple String Operations\n",
    "s = \" Python Programming of Yash \"\n",
    "print(\"Original:\", s)\n",
    "print(\"Lower:\", s.lower())\n",
    "print(\"Upper:\", s.upper())\n",
    "print(\"Strip:\", s.strip())\n",
    "print(\"Replace:\", s.replace(\"Python\", \"Core Python\"))\n",
    "print(\"Split:\", s.split())\n",
    "print(\"Find:\", s.find(\"gram\"))\n",
    "print(\"Count of 'm':\", s.count('m'))"
   ]
  },
  {
   "cell_type": "code",
   "execution_count": null,
   "id": "f39d75c7-fabb-4856-a427-f8f262cf99f3",
   "metadata": {},
   "outputs": [],
   "source": []
  }
 ],
 "metadata": {
  "kernelspec": {
   "display_name": "Python [conda env:base] *",
   "language": "python",
   "name": "conda-base-py"
  },
  "language_info": {
   "codemirror_mode": {
    "name": "ipython",
    "version": 3
   },
   "file_extension": ".py",
   "mimetype": "text/x-python",
   "name": "python",
   "nbconvert_exporter": "python",
   "pygments_lexer": "ipython3",
   "version": "3.13.5"
  }
 },
 "nbformat": 4,
 "nbformat_minor": 5
}
