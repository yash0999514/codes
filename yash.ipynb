{
 "cells": [
  {
   "cell_type": "code",
   "execution_count": 1,
   "id": "428e976b-8fac-4a09-a876-bdf28a8195ae",
   "metadata": {},
   "outputs": [
    {
     "name": "stdout",
     "output_type": "stream",
     "text": [
      "Assignment Operator Output: 8\n"
     ]
    }
   ],
   "source": [
    "x = 5\n",
    "x += 3\n",
    "print(\"Assignment Operator Output:\", x)"
   ]
  },
  {
   "cell_type": "code",
   "execution_count": 2,
   "id": "076980c7-3198-41e0-8863-696c51b6f4c2",
   "metadata": {},
   "outputs": [
    {
     "name": "stdout",
     "output_type": "stream",
     "text": [
      "Bitwise AND (a & b): 0\n",
      "Bitwise OR (a | b): 14\n",
      "Bitwise XOR (a ^ b): 14\n"
     ]
    }
   ],
   "source": [
    "a = 10\n",
    "b = 4\n",
    "print(\"Bitwise AND (a & b):\", a & b)\n",
    "print(\"Bitwise OR (a | b):\", a | b)\n",
    "print(\"Bitwise XOR (a ^ b):\", a ^ b)"
   ]
  },
  {
   "cell_type": "code",
   "execution_count": 5,
   "id": "93965888-d6f9-4dc5-a1aa-59c4d1fcbb18",
   "metadata": {},
   "outputs": [
    {
     "name": "stdout",
     "output_type": "stream",
     "text": [
      "File Content:\n",
      "This is a test file.\n",
      "File operations in Python.\n"
     ]
    }
   ],
   "source": [
    "file = open(\"sample.txt\", \"w\")\n",
    "file.write(\"This is a test file.\\n\")\n",
    "file.write(\"File operations in Python.\")\n",
    "file.close()\n",
    "file = open(\"sample.txt\", \"r\")\n",
    "print(\"File Content:\\n\" + file.read())\n",
    "file.close()"
   ]
  },
  {
   "cell_type": "code",
   "execution_count": null,
   "id": "e7030686-2038-4c0b-8249-5917d702659c",
   "metadata": {},
   "outputs": [],
   "source": []
  },
  {
   "cell_type": "code",
   "execution_count": null,
   "id": "fb7e194d-0be1-42dc-a46a-06a159d410cf",
   "metadata": {},
   "outputs": [],
   "source": []
  }
 ],
 "metadata": {
  "kernelspec": {
   "display_name": "Python [conda env:base] *",
   "language": "python",
   "name": "conda-base-py"
  },
  "language_info": {
   "codemirror_mode": {
    "name": "ipython",
    "version": 3
   },
   "file_extension": ".py",
   "mimetype": "text/x-python",
   "name": "python",
   "nbconvert_exporter": "python",
   "pygments_lexer": "ipython3",
   "version": "3.13.5"
  }
 },
 "nbformat": 4,
 "nbformat_minor": 5
}
