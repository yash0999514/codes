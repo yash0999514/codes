{
 "cells": [
  {
   "cell_type": "code",
   "execution_count": 1,
   "id": "7dc9a98f-fa9b-4bb3-acd7-8ca33fadbd1a",
   "metadata": {},
   "outputs": [
    {
     "name": "stdout",
     "output_type": "stream",
     "text": [
      "{'title': 'A Light in the Attic', 'price': 'Â£51.77'}\n",
      "{'title': 'Tipping the Velvet', 'price': 'Â£53.74'}\n",
      "{'title': 'Soumission', 'price': 'Â£50.10'}\n",
      "{'title': 'Sharp Objects', 'price': 'Â£47.82'}\n",
      "{'title': 'Sapiens: A Brief History of Humankind', 'price': 'Â£54.23'}\n",
      "{'title': 'The Requiem Red', 'price': 'Â£22.65'}\n",
      "{'title': 'The Dirty Little Secrets of Getting Your Dream Job', 'price': 'Â£33.34'}\n",
      "{'title': 'The Coming Woman: A Novel Based on the Life of the Infamous Feminist, Victoria Woodhull', 'price': 'Â£17.93'}\n",
      "{'title': 'The Boys in the Boat: Nine Americans and Their Epic Quest for Gold at the 1936 Berlin Olympics', 'price': 'Â£22.60'}\n",
      "{'title': 'The Black Maria', 'price': 'Â£52.15'}\n",
      "{'title': 'Starving Hearts (Triangular Trade Trilogy, #1)', 'price': 'Â£13.99'}\n",
      "{'title': \"Shakespeare's Sonnets\", 'price': 'Â£20.66'}\n",
      "{'title': 'Set Me Free', 'price': 'Â£17.46'}\n",
      "{'title': \"Scott Pilgrim's Precious Little Life (Scott Pilgrim #1)\", 'price': 'Â£52.29'}\n",
      "{'title': 'Rip it Up and Start Again', 'price': 'Â£35.02'}\n",
      "{'title': 'Our Band Could Be Your Life: Scenes from the American Indie Underground, 1981-1991', 'price': 'Â£57.25'}\n",
      "{'title': 'Olio', 'price': 'Â£23.88'}\n",
      "{'title': 'Mesaerion: The Best Science Fiction Stories 1800-1849', 'price': 'Â£37.59'}\n",
      "{'title': 'Libertarianism for Beginners', 'price': 'Â£51.33'}\n",
      "{'title': \"It's Only the Himalayas\", 'price': 'Â£45.17'}\n",
      "{'title': 'In Her Wake', 'price': 'Â£12.84'}\n",
      "{'title': 'How Music Works', 'price': 'Â£37.32'}\n",
      "{'title': 'Foolproof Preserving: A Guide to Small Batch Jams, Jellies, Pickles, Condiments, and More: A Foolproof Guide to Making Small Batch Jams, Jellies, Pickles, Condiments, and More', 'price': 'Â£30.52'}\n",
      "{'title': 'Chase Me (Paris Nights #2)', 'price': 'Â£25.27'}\n",
      "{'title': 'Black Dust', 'price': 'Â£34.53'}\n",
      "{'title': 'Birdsong: A Story in Pictures', 'price': 'Â£54.64'}\n",
      "{'title': \"America's Cradle of Quarterbacks: Western Pennsylvania's Football Factory from Johnny Unitas to Joe Montana\", 'price': 'Â£22.50'}\n",
      "{'title': 'Aladdin and His Wonderful Lamp', 'price': 'Â£53.13'}\n",
      "{'title': 'Worlds Elsewhere: Journeys Around Shakespeareâ\\x80\\x99s Globe', 'price': 'Â£40.30'}\n",
      "{'title': 'Wall and Piece', 'price': 'Â£44.18'}\n",
      "{'title': 'The Four Agreements: A Practical Guide to Personal Freedom', 'price': 'Â£17.66'}\n",
      "{'title': 'The Five Love Languages: How to Express Heartfelt Commitment to Your Mate', 'price': 'Â£31.05'}\n",
      "{'title': 'The Elephant Tree', 'price': 'Â£23.82'}\n",
      "{'title': 'The Bear and the Piano', 'price': 'Â£36.89'}\n",
      "{'title': \"Sophie's World\", 'price': 'Â£15.94'}\n",
      "{'title': 'Penny Maybe', 'price': 'Â£33.29'}\n",
      "{'title': 'Maude (1883-1993):She Grew Up with the country', 'price': 'Â£18.02'}\n",
      "{'title': 'In a Dark, Dark Wood', 'price': 'Â£19.63'}\n",
      "{'title': 'Behind Closed Doors', 'price': 'Â£52.22'}\n",
      "{'title': \"You can't bury them all: Poems\", 'price': 'Â£33.63'}\n"
     ]
    }
   ],
   "source": [
    "import requests\n",
    "from bs4 import BeautifulSoup\n",
    "\n",
    "base_url = \"http://books.toscrape.com/catalogue/page-{}.html\"\n",
    "books = []\n",
    "\n",
    "for page in range(1, 3):  # First 2 pages\n",
    "    url = base_url.format(page)\n",
    "    response = requests.get(url)\n",
    "    soup = BeautifulSoup(response.text, 'html.parser')\n",
    "    \n",
    "    for book in soup.select('article.product_pod'):\n",
    "        title = book.h3.a['title']\n",
    "        price = book.select_one('.price_color').text\n",
    "        books.append({\"title\": title, \"price\": price})\n",
    "\n",
    "for b in books:\n",
    "    print(b)"
   ]
  },
  {
   "cell_type": "code",
   "execution_count": null,
   "id": "fb375cef-9593-4475-ac36-ef43e7f8d684",
   "metadata": {},
   "outputs": [],
   "source": []
  }
 ],
 "metadata": {
  "kernelspec": {
   "display_name": "Python [conda env:base] *",
   "language": "python",
   "name": "conda-base-py"
  },
  "language_info": {
   "codemirror_mode": {
    "name": "ipython",
    "version": 3
   },
   "file_extension": ".py",
   "mimetype": "text/x-python",
   "name": "python",
   "nbconvert_exporter": "python",
   "pygments_lexer": "ipython3",
   "version": "3.13.5"
  }
 },
 "nbformat": 4,
 "nbformat_minor": 5
}
