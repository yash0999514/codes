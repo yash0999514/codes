{
 "cells": [
  {
   "cell_type": "code",
   "execution_count": 2,
   "id": "82626dc2-d509-4c8e-901f-975ecff9a237",
   "metadata": {},
   "outputs": [
    {
     "name": "stdout",
     "output_type": "stream",
     "text": [
      "City         Description               Temp (°C) \n",
      "--------------------------------------------------\n",
      "Mumbai       Light rain                +27°C     \n",
      "Delhi        Partly cloudy             +33°C     \n",
      "Chennai      Light rain with thunderstorm +26°C     \n",
      "Kolkata      Haze                      +30°C     \n",
      "Bengaluru    Rain                      +22°C     \n"
     ]
    }
   ],
   "source": [
    "import requests\n",
    "\n",
    "cities = [\"Mumbai\", \"Delhi\", \"Chennai\", \"Kolkata\", \"Bengaluru\"]\n",
    "\n",
    "print(\"{:<12} {:<25} {:<10}\".format(\"City\", \"Description\", \"Temp (°C)\"))\n",
    "print(\"-\" * 50)\n",
    "\n",
    "for city in cities:\n",
    "    url = f\"https://wttr.in/{city}?format=%C+%t\"\n",
    "    data = requests.get(url).text.strip()\n",
    "    description, temperature = data.rsplit(\" \", 1)\n",
    "    \n",
    "    print(\"{:<12} {:<25} {:<10}\".format(city, description, temperature))\n"
   ]
  },
  {
   "cell_type": "code",
   "execution_count": null,
   "id": "643d52e6-6258-4dc2-b529-4c7b310e359e",
   "metadata": {},
   "outputs": [],
   "source": []
  }
 ],
 "metadata": {
  "kernelspec": {
   "display_name": "Python [conda env:base] *",
   "language": "python",
   "name": "conda-base-py"
  },
  "language_info": {
   "codemirror_mode": {
    "name": "ipython",
    "version": 3
   },
   "file_extension": ".py",
   "mimetype": "text/x-python",
   "name": "python",
   "nbconvert_exporter": "python",
   "pygments_lexer": "ipython3",
   "version": "3.13.5"
  }
 },
 "nbformat": 4,
 "nbformat_minor": 5
}
