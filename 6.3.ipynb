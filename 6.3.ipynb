{
 "cells": [
  {
   "cell_type": "code",
   "execution_count": 4,
   "id": "0d318819-eda4-4ee0-afd5-4c70c80490a2",
   "metadata": {},
   "outputs": [
    {
     "name": "stdout",
     "output_type": "stream",
     "text": [
      "✅ Saved jobs.csv with 30 records (first 3 pages of 10 jobs each).\n"
     ]
    }
   ],
   "source": [
    "import requests\n",
    "from bs4 import BeautifulSoup\n",
    "import csv\n",
    "\n",
    "url = \"https://realpython.github.io/fake-jobs/\"\n",
    "\n",
    "headers = {\n",
    "    \"User-Agent\": \"Mozilla/5.0\"\n",
    "}\n",
    "\n",
    "try:\n",
    "    response = requests.get(url, headers=headers)\n",
    "    response.raise_for_status()\n",
    "except requests.RequestException as e:\n",
    "    print(f\"❌ Failed to fetch jobs page: {e}\")\n",
    "    exit()\n",
    "\n",
    "soup = BeautifulSoup(response.text, \"html.parser\")\n",
    "jobs = soup.find_all(\"div\", class_=\"card-content\")\n",
    "\n",
    "# Simulate first 3 pages (10 jobs per page)\n",
    "page_size = 10\n",
    "first_three_pages = jobs[:page_size * 3]\n",
    "\n",
    "all_jobs = []\n",
    "for job in first_three_pages:\n",
    "    title = job.find(\"h2\", class_=\"title\").get_text(strip=True)\n",
    "    company = job.find(\"h3\", class_=\"company\").get_text(strip=True)\n",
    "    location = job.find(\"p\", class_=\"location\").get_text(strip=True)\n",
    "    all_jobs.append({\"Title\": title, \"Company\": company, \"Location\": location})\n",
    "\n",
    "# Save to CSV\n",
    "with open(\"jobs.csv\", \"w\", newline=\"\", encoding=\"utf-8\") as f:\n",
    "    writer = csv.DictWriter(f, fieldnames=[\"Title\", \"Company\", \"Location\"])\n",
    "    writer.writeheader()\n",
    "    writer.writerows(all_jobs)\n",
    "\n",
    "print(f\"✅ Saved jobs.csv with {len(all_jobs)} records (first 3 pages of 10 jobs each).\")\n"
   ]
  },
  {
   "cell_type": "code",
   "execution_count": null,
   "id": "3969b335-471d-4f66-9912-1a6ac084f3c9",
   "metadata": {},
   "outputs": [],
   "source": []
  },
  {
   "cell_type": "code",
   "execution_count": null,
   "id": "c53ed2fb-75e4-4e32-b997-7d0826f715f6",
   "metadata": {},
   "outputs": [],
   "source": []
  }
 ],
 "metadata": {
  "kernelspec": {
   "display_name": "Python [conda env:base] *",
   "language": "python",
   "name": "conda-base-py"
  },
  "language_info": {
   "codemirror_mode": {
    "name": "ipython",
    "version": 3
   },
   "file_extension": ".py",
   "mimetype": "text/x-python",
   "name": "python",
   "nbconvert_exporter": "python",
   "pygments_lexer": "ipython3",
   "version": "3.13.5"
  }
 },
 "nbformat": 4,
 "nbformat_minor": 5
}
