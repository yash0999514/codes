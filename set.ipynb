{
 "cells": [
  {
   "cell_type": "code",
   "execution_count": 1,
   "id": "446f331a-d879-4a0b-9fbc-cf8d0c941070",
   "metadata": {},
   "outputs": [],
   "source": [
    "fruits = {\"apple\", \"banana\", \"cherry\",\"chiku\"}"
   ]
  },
  {
   "cell_type": "code",
   "execution_count": 2,
   "id": "e7736487-ec96-462f-ab25-a4486ac8a2e2",
   "metadata": {},
   "outputs": [],
   "source": [
    "fruits.add(\"orange\")"
   ]
  },
  {
   "cell_type": "code",
   "execution_count": 3,
   "id": "a064bfa2-f6e5-4ee5-b98c-0d3f77e89bb9",
   "metadata": {},
   "outputs": [],
   "source": [
    "\n",
    "fruits.discard(\"banana\")\n"
   ]
  },
  {
   "cell_type": "code",
   "execution_count": 4,
   "id": "115e234c-7c04-4f22-85fb-c0ef14799a7f",
   "metadata": {},
   "outputs": [
    {
     "name": "stdout",
     "output_type": "stream",
     "text": [
      "Set after add and discard: {'apple', 'orange', 'cherry', 'chiku'}\n"
     ]
    }
   ],
   "source": [
    "print(\"Set after add and discard:\", fruits)"
   ]
  },
  {
   "cell_type": "code",
   "execution_count": 5,
   "id": "3fd48c20-90cc-4fca-8f2a-fe245914112b",
   "metadata": {},
   "outputs": [],
   "source": [
    "my_tuple = (10, 20, 30, 20, 40, 20)"
   ]
  },
  {
   "cell_type": "code",
   "execution_count": 6,
   "id": "ed8ec743-ee48-4e00-b992-7d1a012a14ef",
   "metadata": {},
   "outputs": [],
   "source": [
    "count = my_tuple.count(20)"
   ]
  },
  {
   "cell_type": "code",
   "execution_count": 7,
   "id": "2517bb78-3bd0-43ec-b0f8-25002fa778bc",
   "metadata": {},
   "outputs": [],
   "source": [
    "index1 = my_tuple.index(30)"
   ]
  },
  {
   "cell_type": "code",
   "execution_count": 8,
   "id": "56f5b7d7-c518-47f6-ac1d-9b36b8b5641c",
   "metadata": {},
   "outputs": [
    {
     "name": "stdout",
     "output_type": "stream",
     "text": [
      "Tuple: (10, 20, 30, 20, 40, 20)\n"
     ]
    }
   ],
   "source": [
    "print(\"Tuple:\", my_tuple)"
   ]
  },
  {
   "cell_type": "code",
   "execution_count": 9,
   "id": "f7279893-b403-4734-8979-3ea43ded2544",
   "metadata": {},
   "outputs": [
    {
     "name": "stdout",
     "output_type": "stream",
     "text": [
      "Count of 20: 3\n",
      "Index of 30: 2\n"
     ]
    }
   ],
   "source": [
    "print(\"Count of 20:\", count)\n",
    "print(\"Index of 30:\", index1)"
   ]
  },
  {
   "cell_type": "code",
   "execution_count": null,
   "id": "344aa2d6-023a-4aa7-a22a-71ff4b618b53",
   "metadata": {},
   "outputs": [],
   "source": []
  }
 ],
 "metadata": {
  "kernelspec": {
   "display_name": "Python [conda env:base] *",
   "language": "python",
   "name": "conda-base-py"
  },
  "language_info": {
   "codemirror_mode": {
    "name": "ipython",
    "version": 3
   },
   "file_extension": ".py",
   "mimetype": "text/x-python",
   "name": "python",
   "nbconvert_exporter": "python",
   "pygments_lexer": "ipython3",
   "version": "3.13.5"
  }
 },
 "nbformat": 4,
 "nbformat_minor": 5
}
