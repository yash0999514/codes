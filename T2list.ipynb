{
 "cells": [
  {
   "cell_type": "code",
   "execution_count": 3,
   "id": "59a3e9da-63ef-413e-b90b-4a536686d7bc",
   "metadata": {},
   "outputs": [
    {
     "name": "stdout",
     "output_type": "stream",
     "text": [
      "Updated List: [1, 2, 4, 5, 6, 8]\n"
     ]
    }
   ],
   "source": [
    "#task 2.1 -List Operations\n",
    "my_list = [1, 2, 3, 4, 5]\n",
    "my_list.append(6)\n",
    "my_list.insert(0, 8)\n",
    "my_list.remove(3)\n",
    "my_list.reverse()\n",
    "my_list.sort()\n",
    "print(\"Updated List:\", my_list)"
   ]
  },
  {
   "cell_type": "code",
   "execution_count": null,
   "id": "29129d2b-6e9e-402c-992d-dfed9bb607b9",
   "metadata": {},
   "outputs": [],
   "source": [
    "# Task 2.2 - Tuple Operations\n",
    "m_tuple = (1, 2, 3, 2, 4, 2)\n",
    "print(\"Tuple:\", m_tuple)\n",
    "print(\"Count of 2:\", my_tuple.count(2))\n",
    "print(\"Index of 4:\", my_tuple.index(4))"
   ]
  },
  {
   "cell_type": "code",
   "execution_count": 7,
   "id": "f4c06ec2-e632-4168-8fab-09f6f4ca1426",
   "metadata": {},
   "outputs": [
    {
     "name": "stdout",
     "output_type": "stream",
     "text": [
      "Union: {1, 2, 3, 4, 5, 6, 7, 8}\n",
      "Intersection: {3}\n",
      "Difference: {1, 2, 6, 7, 8}\n",
      "Symmetric Difference: {1, 2, 4, 5, 6, 7, 8}\n"
     ]
    }
   ],
   "source": [
    "# Task 2.3 - Set Operations\n",
    "set1 = {1, 2, 3}\n",
    "set2 = {3, 4, 5}\n",
    "set1.add(6)\n",
    "set1.update([7, 8])\n",
    "print(\"Union:\", set1.union(set2))\n",
    "print(\"Intersection:\", set1.intersection(set2))\n",
    "print(\"Difference:\", set1.difference(set2))\n",
    "print(\"Symmetric Difference:\", set1.symmetric_difference(set2))"
   ]
  },
  {
   "cell_type": "code",
   "execution_count": null,
   "id": "43d70c82-b423-4866-b202-5169a3b569e1",
   "metadata": {},
   "outputs": [],
   "source": []
  }
 ],
 "metadata": {
  "kernelspec": {
   "display_name": "Python [conda env:base] *",
   "language": "python",
   "name": "conda-base-py"
  },
  "language_info": {
   "codemirror_mode": {
    "name": "ipython",
    "version": 3
   },
   "file_extension": ".py",
   "mimetype": "text/x-python",
   "name": "python",
   "nbconvert_exporter": "python",
   "pygments_lexer": "ipython3",
   "version": "3.13.5"
  }
 },
 "nbformat": 4,
 "nbformat_minor": 5
}
